{
 "cells": [
  {
   "cell_type": "markdown",
   "id": "c42da55b-81f2-4513-aa05-6ae7b9ef7bb2",
   "metadata": {},
   "source": [
    "# Analyzing citation networks\n",
    "This task involves exploring the High-energy physics citation network. Arxiv HEP-PH (high energy physics phenomenology) citation graph is from the e-print arXiv and covers all the citations within a dataset of 34,546 papers with 421,578 edges. If a paper $i$ cites paper $j$, the graph contains a directed edge from $i$ to $j$. If a paper cites, or is cited by, a paper outside the dataset, the graph does not contain any information about this. This dataset is temporal, which means the structure of the network changes over time as new academic papers are published.\n",
    "\n",
    "Dataset link: [http://snap.stanford.edu/data/cit-HepPh.html]()"
   ]
  },
  {
   "cell_type": "markdown",
   "id": "c501ba68-0134-4cc2-b08f-480f07f242da",
   "metadata": {},
   "source": [
    "## Task 1: A graph exploration task\n",
    "The first task is a graph exploration task. Build out a graph from the dataset given, and record how the graph and its properties change over time. You are expected to perform this task on at least 5 properties, and report iteresting insights. Few simple properties include different types of centrality, density, and diameter. This task is focused on exploratory data analysis, and you are expected to show plots and metrics to support your findings."
   ]
  },
  {
   "cell_type": "code",
   "execution_count": null,
   "id": "f534b00e-a3a2-4cd2-ba24-ec02a828aab3",
   "metadata": {},
   "outputs": [],
   "source": [
    "# Import the Dataset so we can use it for further analysis"
   ]
  },
  {
   "cell_type": "markdown",
   "id": "a101ec37-ae83-4d39-8284-af8f4ad778dc",
   "metadata": {},
   "source": [
    "## Task 2: Community detection\n",
    "Community detection or clustering is an important analysis for graphs. In the study of complex networks, a network is said to have community structure if the nodes of the network can be easily grouped into disjoint sets of nodes such that each set of nodes is densely connected internally, and sparsely between different communities. In this task, you are required to perform community detection on the graph. This is a well studied problem, and various static algorithms as well as machine learning methods exist for community detection.\n",
    "\n",
    "You are required to:\n",
    "1. Implement any two algorithms/ ML methods for community detection on the graph at any time $T$\n",
    "2. Analyze the communities. (Can you build an understanding of why the algorithm chose the communities it did?)\n",
    "3. Perform temporal community detection, through which you can study how communities evolve over time as new papers are added. Report interesting insights using various plots and metrics."
   ]
  },
  {
   "cell_type": "markdown",
   "id": "a7b32d66-91ca-4477-8f48-63cfe8b59bc7",
   "metadata": {},
   "source": [
    "# Bonus Task: Link Prediction\n",
    "Link Prediction is a task in graph and network analysis where the goal is to predict missing or future connections between nodes in a network. As before, multiple algorithms exist for this task. However, you are required to implement both a graph neural network, and a classic algorithm like DeepWalk or Node2Vec. For training, you can use the citation network at any time interval $[0, T]$ and for testing/validation, use nodes that appear after time $T$. Compare the results of the two approaches, and analyze whether the GNN performs better, and if so, why. You will be evaluated on how well the model can predict these edges, as well as your understanding of the link prediction task in the graph."
   ]
  }
 ],
 "metadata": {
  "kernelspec": {
   "display_name": "Python 3 (ipykernel)",
   "language": "python",
   "name": "python3"
  },
  "language_info": {
   "codemirror_mode": {
    "name": "ipython",
    "version": 3
   },
   "file_extension": ".py",
   "mimetype": "text/x-python",
   "name": "python",
   "nbconvert_exporter": "python",
   "pygments_lexer": "ipython3",
   "version": "3.10.12"
  }
 },
 "nbformat": 4,
 "nbformat_minor": 5
}
